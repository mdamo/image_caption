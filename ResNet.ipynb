{
 "cells": [
  {
   "cell_type": "code",
   "execution_count": 3,
   "metadata": {},
   "outputs": [
    {
     "ename": "ImportError",
     "evalue": "No module named nn",
     "output_type": "error",
     "traceback": [
      "\u001b[0;31m\u001b[0m",
      "\u001b[0;31mImportError\u001b[0mTraceback (most recent call last)",
      "\u001b[0;32m<ipython-input-3-381544292ff1>\u001b[0m in \u001b[0;36m<module>\u001b[0;34m()\u001b[0m\n\u001b[1;32m      3\u001b[0m \u001b[0;34m\u001b[0m\u001b[0m\n\u001b[1;32m      4\u001b[0m \u001b[0;32mfrom\u001b[0m \u001b[0mconfig\u001b[0m \u001b[0;32mimport\u001b[0m \u001b[0mConfig\u001b[0m\u001b[0;34m\u001b[0m\u001b[0m\n\u001b[0;32m----> 5\u001b[0;31m \u001b[0;32mfrom\u001b[0m \u001b[0mmodel\u001b[0m \u001b[0;32mimport\u001b[0m \u001b[0mCaptionGenerator\u001b[0m\u001b[0;34m\u001b[0m\u001b[0m\n\u001b[0m\u001b[1;32m      6\u001b[0m \u001b[0;32mfrom\u001b[0m \u001b[0mdataset\u001b[0m \u001b[0;32mimport\u001b[0m \u001b[0mprepare_train_data\u001b[0m\u001b[0;34m,\u001b[0m \u001b[0mprepare_eval_data\u001b[0m\u001b[0;34m,\u001b[0m \u001b[0mprepare_test_data\u001b[0m\u001b[0;34m\u001b[0m\u001b[0m\n\u001b[1;32m      7\u001b[0m \u001b[0;34m\u001b[0m\u001b[0m\n",
      "\u001b[0;32m/disk/2/home/jupyter/mdamo/image-caption/model.py\u001b[0m in \u001b[0;36m<module>\u001b[0;34m()\u001b[0m\n\u001b[1;32m      4\u001b[0m \u001b[0;32mimport\u001b[0m \u001b[0mnumpy\u001b[0m \u001b[0;32mas\u001b[0m \u001b[0mnp\u001b[0m\u001b[0;34m\u001b[0m\u001b[0m\n\u001b[1;32m      5\u001b[0m \u001b[0;34m\u001b[0m\u001b[0m\n\u001b[0;32m----> 6\u001b[0;31m \u001b[0;32mfrom\u001b[0m \u001b[0mbase_model\u001b[0m \u001b[0;32mimport\u001b[0m \u001b[0mBaseModel\u001b[0m\u001b[0;34m\u001b[0m\u001b[0m\n\u001b[0m\u001b[1;32m      7\u001b[0m \u001b[0;34m\u001b[0m\u001b[0m\n\u001b[1;32m      8\u001b[0m \u001b[0;32mclass\u001b[0m \u001b[0mCaptionGenerator\u001b[0m\u001b[0;34m(\u001b[0m\u001b[0mBaseModel\u001b[0m\u001b[0;34m)\u001b[0m\u001b[0;34m:\u001b[0m\u001b[0;34m\u001b[0m\u001b[0m\n",
      "\u001b[0;32m/disk/2/home/jupyter/mdamo/image-caption/base_model.py\u001b[0m in \u001b[0;36m<module>\u001b[0;34m()\u001b[0m\n\u001b[1;32m     15\u001b[0m \u001b[0;32mimport\u001b[0m \u001b[0mtime\u001b[0m\u001b[0;34m\u001b[0m\u001b[0m\n\u001b[1;32m     16\u001b[0m \u001b[0;34m\u001b[0m\u001b[0m\n\u001b[0;32m---> 17\u001b[0;31m \u001b[0;32mfrom\u001b[0m \u001b[0mutils\u001b[0m\u001b[0;34m.\u001b[0m\u001b[0mnn\u001b[0m \u001b[0;32mimport\u001b[0m \u001b[0mNN\u001b[0m\u001b[0;34m\u001b[0m\u001b[0m\n\u001b[0m\u001b[1;32m     18\u001b[0m \u001b[0;32mfrom\u001b[0m \u001b[0mutils\u001b[0m\u001b[0;34m.\u001b[0m\u001b[0mcoco\u001b[0m\u001b[0;34m.\u001b[0m\u001b[0mcoco\u001b[0m \u001b[0;32mimport\u001b[0m \u001b[0mCOCO\u001b[0m\u001b[0;34m\u001b[0m\u001b[0m\n\u001b[1;32m     19\u001b[0m \u001b[0;32mfrom\u001b[0m \u001b[0mutils\u001b[0m\u001b[0;34m.\u001b[0m\u001b[0mcoco\u001b[0m\u001b[0;34m.\u001b[0m\u001b[0mpycocoevalcap\u001b[0m\u001b[0;34m.\u001b[0m\u001b[0meval\u001b[0m \u001b[0;32mimport\u001b[0m \u001b[0mCOCOEvalCap\u001b[0m\u001b[0;34m\u001b[0m\u001b[0m\n",
      "\u001b[0;31mImportError\u001b[0m: No module named nn"
     ]
    }
   ],
   "source": [
    "#!/usr/bin/python\n",
    "import tensorflow as tf\n",
    "\n",
    "from config import Config\n",
    "from model import CaptionGenerator\n",
    "from dataset import prepare_train_data, prepare_eval_data, prepare_test_data\n",
    "\n",
    "FLAGS = tf.app.flags.FLAGS\n",
    "\n",
    "tf.flags.DEFINE_string('phase', 'train',\n",
    "                       'The phase can be train, eval or test')\n",
    "\n",
    "tf.flags.DEFINE_boolean('load', False,\n",
    "                        'Turn on to load a pretrained model from either \\\n",
    "                        the latest checkpoint or a specified file')\n",
    "\n",
    "tf.flags.DEFINE_string('model_file', None,\n",
    "                       'If sepcified, load a pretrained model from this file')\n",
    "\n",
    "tf.flags.DEFINE_boolean('load_cnn', False,\n",
    "                        'Turn on to load a pretrained CNN model')\n",
    "\n",
    "tf.flags.DEFINE_string('cnn_model_file', './vgg16_no_fc.npy',\n",
    "                       'The file containing a pretrained CNN model')\n",
    "\n",
    "tf.flags.DEFINE_boolean('train_cnn', False,\n",
    "                        'Turn on to train both CNN and RNN. \\\n",
    "                         Otherwise, only RNN is trained')\n",
    "\n",
    "tf.flags.DEFINE_integer('beam_size', 3,\n",
    "                        'The size of beam search for caption generation')\n",
    "\n",
    "\n",
    "\n",
    "def main(argv):\n",
    "    config = Config()\n",
    "    config.phase = FLAGS.phase\n",
    "    config.train_cnn = FLAGS.train_cnn\n",
    "    config.beam_size = FLAGS.beam_size\n",
    "\n",
    "    with tf.Session() as sess:\n",
    "        if FLAGS.phase == 'train':\n",
    "            # training phase\n",
    "            data = prepare_train_data(config)\n",
    "            model = CaptionGenerator(config)\n",
    "            sess.run(tf.global_variables_initializer())\n",
    "            if FLAGS.load:\n",
    "                model.load(sess, FLAGS.model_file)\n",
    "            if FLAGS.load_cnn:\n",
    "                model.load_cnn(sess, FLAGS.cnn_model_file)\n",
    "            tf.get_default_graph().finalize()\n",
    "            model.train(sess, data)\n",
    "\n",
    "        elif FLAGS.phase == 'eval':\n",
    "            # evaluation phase\n",
    "            coco, data, vocabulary = prepare_eval_data(config)\n",
    "            model = CaptionGenerator(config)\n",
    "            model.load(sess, FLAGS.model_file)\n",
    "            tf.get_default_graph().finalize()\n",
    "            model.eval(sess, coco, data, vocabulary)\n",
    "\n",
    "        else:\n",
    "            # testing phase\n",
    "            data, vocabulary = prepare_test_data(config)\n",
    "            model = CaptionGenerator(config)\n",
    "            model.load(sess, FLAGS.model_file)\n",
    "            tf.get_default_graph().finalize()\n",
    "            model.test(sess, data, vocabulary)\n",
    "\n",
    "if __name__ == '__main__':\n",
    "    tf.app.run()\n"
   ]
  }
 ],
 "metadata": {
  "kernelspec": {
   "display_name": "Python 2",
   "language": "python",
   "name": "python2"
  },
  "language_info": {
   "codemirror_mode": {
    "name": "ipython",
    "version": 2
   },
   "file_extension": ".py",
   "mimetype": "text/x-python",
   "name": "python",
   "nbconvert_exporter": "python",
   "pygments_lexer": "ipython2",
   "version": "2.7.5"
  }
 },
 "nbformat": 4,
 "nbformat_minor": 2
}
